{
 "cells": [
  {
   "cell_type": "markdown",
   "id": "d59ece48",
   "metadata": {},
   "source": [
    "# Project 3\n",
    "## Non-parametric methods \n",
    "<div class = \"alert alert-success\">\n",
    "Since the non-parametric schemes presented in this topic can be used to solve a classification or\n",
    "regression task, each group will choose a target variable (principally uni-dimensional unless the\n",
    "dataset specifies otherwise) to address one of these two tasks (selected by the group). It is\n",
    "suggested to approach this task using the k-nearest neighbors scheme, classification/regression\n",
    "trees, multi-layer perceptron (considered an artificial neural network), and an ensemble scheme\n",
    "such as Random Forest or Gradient Boosting.\n",
    "In developing the following schemes, always use the same partition of observations associated\n",
    "with the test set. This will allow for fair comparisons between different approaches.\n",
    "Explain in detail (implementation is not necessary) what you could do if you did not have a test\n",
    "partition and wanted to estimate the generalization capability while being \"sufficiently confident\"\n",
    "that the chosen features are most suitable for the task.\n",
    "\n",
    "</div>\n",
    "\n",
    "we use classification (died or not at 1 year = target variable)\n",
    "\n"
   ]
  },
  {
   "cell_type": "code",
   "execution_count": 1,
   "id": "00f4f725",
   "metadata": {},
   "outputs": [],
   "source": [
    "import pandas as pd\n",
    "import numpy as np\n",
    "\n",
    "import matplotlib.pyplot as plt"
   ]
  },
  {
   "cell_type": "markdown",
   "id": "0b1e6378",
   "metadata": {},
   "source": [
    "### Load data "
   ]
  },
  {
   "cell_type": "code",
   "execution_count": 19,
   "id": "32fa0129",
   "metadata": {},
   "outputs": [],
   "source": [
    "X_train = pd.read_csv(\"minmax_scaled_x_train.csv\") # already normalized\n",
    "X_test = pd.read_csv(\"minmax_scaled_x_test.csv\") # already normalized\n",
    "y_train = pd.read_csv(\"Y_train.csv\")\n",
    "y_test = pd.read_csv(\"Y_test.csv\")\n",
    "\n",
    "X = pd.concat([X_train, X_test], axis=0)\n",
    "y = pd.concat([y_train, y_test], axis=0)"
   ]
  },
  {
   "cell_type": "code",
   "execution_count": 6,
   "id": "69c74029",
   "metadata": {},
   "outputs": [
    {
     "data": {
      "text/html": [
       "<div>\n",
       "<style scoped>\n",
       "    .dataframe tbody tr th:only-of-type {\n",
       "        vertical-align: middle;\n",
       "    }\n",
       "\n",
       "    .dataframe tbody tr th {\n",
       "        vertical-align: top;\n",
       "    }\n",
       "\n",
       "    .dataframe thead th {\n",
       "        text-align: right;\n",
       "    }\n",
       "</style>\n",
       "<table border=\"1\" class=\"dataframe\">\n",
       "  <thead>\n",
       "    <tr style=\"text-align: right;\">\n",
       "      <th></th>\n",
       "      <th>Survival</th>\n",
       "      <th>Still-Alive</th>\n",
       "      <th>Age-At-Heart-Attack</th>\n",
       "      <th>Pericardial-effusion</th>\n",
       "      <th>Fractional-Shortening</th>\n",
       "      <th>EPSS</th>\n",
       "      <th>LVDD</th>\n",
       "      <th>Wall-Motion-Score</th>\n",
       "      <th>Wall-Motion-Index</th>\n",
       "    </tr>\n",
       "  </thead>\n",
       "  <tbody>\n",
       "    <tr>\n",
       "      <th>0</th>\n",
       "      <td>0.168142</td>\n",
       "      <td>1.0</td>\n",
       "      <td>0.854876</td>\n",
       "      <td>0.0</td>\n",
       "      <td>0.238095</td>\n",
       "      <td>0.695652</td>\n",
       "      <td>0.282230</td>\n",
       "      <td>0.677419</td>\n",
       "      <td>0.601504</td>\n",
       "    </tr>\n",
       "    <tr>\n",
       "      <th>1</th>\n",
       "      <td>0.327434</td>\n",
       "      <td>0.0</td>\n",
       "      <td>0.716993</td>\n",
       "      <td>0.0</td>\n",
       "      <td>0.833333</td>\n",
       "      <td>0.260870</td>\n",
       "      <td>0.236934</td>\n",
       "      <td>0.419355</td>\n",
       "      <td>0.526316</td>\n",
       "    </tr>\n",
       "    <tr>\n",
       "      <th>2</th>\n",
       "      <td>0.002065</td>\n",
       "      <td>1.0</td>\n",
       "      <td>0.634263</td>\n",
       "      <td>1.0</td>\n",
       "      <td>0.425372</td>\n",
       "      <td>0.498555</td>\n",
       "      <td>0.548921</td>\n",
       "      <td>0.722590</td>\n",
       "      <td>0.475939</td>\n",
       "    </tr>\n",
       "    <tr>\n",
       "      <th>3</th>\n",
       "      <td>0.048584</td>\n",
       "      <td>1.0</td>\n",
       "      <td>0.710926</td>\n",
       "      <td>0.0</td>\n",
       "      <td>0.389048</td>\n",
       "      <td>0.215909</td>\n",
       "      <td>0.620176</td>\n",
       "      <td>0.019677</td>\n",
       "      <td>0.146618</td>\n",
       "    </tr>\n",
       "    <tr>\n",
       "      <th>4</th>\n",
       "      <td>0.000000</td>\n",
       "      <td>1.0</td>\n",
       "      <td>0.736608</td>\n",
       "      <td>0.0</td>\n",
       "      <td>0.469317</td>\n",
       "      <td>0.565324</td>\n",
       "      <td>0.917483</td>\n",
       "      <td>0.007061</td>\n",
       "      <td>0.392318</td>\n",
       "    </tr>\n",
       "  </tbody>\n",
       "</table>\n",
       "</div>"
      ],
      "text/plain": [
       "   Survival  Still-Alive  Age-At-Heart-Attack  Pericardial-effusion  \\\n",
       "0  0.168142          1.0             0.854876                   0.0   \n",
       "1  0.327434          0.0             0.716993                   0.0   \n",
       "2  0.002065          1.0             0.634263                   1.0   \n",
       "3  0.048584          1.0             0.710926                   0.0   \n",
       "4  0.000000          1.0             0.736608                   0.0   \n",
       "\n",
       "   Fractional-Shortening      EPSS      LVDD  Wall-Motion-Score  \\\n",
       "0               0.238095  0.695652  0.282230           0.677419   \n",
       "1               0.833333  0.260870  0.236934           0.419355   \n",
       "2               0.425372  0.498555  0.548921           0.722590   \n",
       "3               0.389048  0.215909  0.620176           0.019677   \n",
       "4               0.469317  0.565324  0.917483           0.007061   \n",
       "\n",
       "   Wall-Motion-Index  \n",
       "0           0.601504  \n",
       "1           0.526316  \n",
       "2           0.475939  \n",
       "3           0.146618  \n",
       "4           0.392318  "
      ]
     },
     "execution_count": 6,
     "metadata": {},
     "output_type": "execute_result"
    }
   ],
   "source": [
    "X.head()"
   ]
  },
  {
   "cell_type": "code",
   "execution_count": 7,
   "id": "17264b79",
   "metadata": {},
   "outputs": [
    {
     "data": {
      "text/html": [
       "<div>\n",
       "<style scoped>\n",
       "    .dataframe tbody tr th:only-of-type {\n",
       "        vertical-align: middle;\n",
       "    }\n",
       "\n",
       "    .dataframe tbody tr th {\n",
       "        vertical-align: top;\n",
       "    }\n",
       "\n",
       "    .dataframe thead th {\n",
       "        text-align: right;\n",
       "    }\n",
       "</style>\n",
       "<table border=\"1\" class=\"dataframe\">\n",
       "  <thead>\n",
       "    <tr style=\"text-align: right;\">\n",
       "      <th></th>\n",
       "      <th>Alive-At1</th>\n",
       "    </tr>\n",
       "  </thead>\n",
       "  <tbody>\n",
       "    <tr>\n",
       "      <th>0</th>\n",
       "      <td>1.0</td>\n",
       "    </tr>\n",
       "    <tr>\n",
       "      <th>1</th>\n",
       "      <td>0.0</td>\n",
       "    </tr>\n",
       "    <tr>\n",
       "      <th>2</th>\n",
       "      <td>1.0</td>\n",
       "    </tr>\n",
       "    <tr>\n",
       "      <th>3</th>\n",
       "      <td>1.0</td>\n",
       "    </tr>\n",
       "    <tr>\n",
       "      <th>4</th>\n",
       "      <td>1.0</td>\n",
       "    </tr>\n",
       "  </tbody>\n",
       "</table>\n",
       "</div>"
      ],
      "text/plain": [
       "   Alive-At1\n",
       "0        1.0\n",
       "1        0.0\n",
       "2        1.0\n",
       "3        1.0\n",
       "4        1.0"
      ]
     },
     "execution_count": 7,
     "metadata": {},
     "output_type": "execute_result"
    }
   ],
   "source": [
    "y.head()"
   ]
  },
  {
   "cell_type": "code",
   "execution_count": 20,
   "id": "ed2a0cb7",
   "metadata": {},
   "outputs": [],
   "source": [
    "y_train = y_train.values.reshape(-1, 1).ravel() # to avoid errors\n",
    "y_test = y_test.values.reshape(-1, 1).ravel() # to avoid errors"
   ]
  },
  {
   "cell_type": "markdown",
   "id": "18814415",
   "metadata": {},
   "source": [
    "### Grid search and plot result functions"
   ]
  },
  {
   "cell_type": "code",
   "execution_count": 25,
   "id": "015b7404",
   "metadata": {},
   "outputs": [],
   "source": [
    "from sklearn.model_selection import GridSearchCV\n",
    "from utils import analyze_train_test_performance  \n",
    "\n",
    "# These are customized functions: should be in utils.py\n",
    "def hyper_parameters_search(clf, X, y, param_grid, scorer = 'f1', cv=5):\n",
    "    \n",
    "    grid = GridSearchCV(clf, param_grid = param_grid, scoring = scorer, cv = cv)\n",
    "    grid.fit(X, y)\n",
    "\n",
    "    print(\"best mean cross-validation score: {:.3f}\".format(grid.best_score_))\n",
    "    print(\"best parameters: {}\".format(grid.best_params_))\n",
    "    \n",
    "    return grid\n",
    "\n",
    "def plot_cv_scoring(grid, hyper_parameter, scorer = 'f1', plot_errors = False, log=False):\n",
    "    \n",
    "    scores = np.array(grid.cv_results_['mean_test_score'])\n",
    "    std_scores = grid.cv_results_['std_test_score']\n",
    "    params = grid.param_grid[hyper_parameter]\n",
    "    \n",
    "    if log:\n",
    "        params = np.log10(params)\n",
    "    if plot_errors:\n",
    "        plt.errorbar(params,scores,yerr=std_scores, fmt='o-',ecolor='g')\n",
    "    else:\n",
    "        plt.plot(params,scores, 'o-')\n",
    "    plt.xlabel(hyper_parameter,fontsize=14)\n",
    "    plt.ylabel(scorer)\n",
    "    plt.show()"
   ]
  },
  {
   "cell_type": "markdown",
   "id": "c2bfaf65",
   "metadata": {},
   "source": [
    "### K-NN\n",
    "<div class = \"alert alert-success\">\n",
    "\n",
    "Explain the meaning of the hyperparameter k. How is the target value of a specific test\n",
    "observation estimated when applying the k-NN scheme?\n",
    "1) How can you find the most suitable value for the hyperparameter k for a set of\n",
    "observations?\n",
    "2) Discuss the relationship between generalization capability and the value of the\n",
    "hyperparameter k.\n",
    "3) Suppose a k-NN scheme has been used with a database where the features have not been\n",
    "normalized. Indicate whether the performance would change if the design and\n",
    "performance evaluation were done with normalized variables. Justify your response.\n",
    "4) Explore various values of the hyperparameter k and reasonably indicate which k value you\n",
    "would choose. Include in the project one or more graphs showing the evolution of at least\n",
    "two different performance metrics (useful for the task to be solved) for each explored k\n",
    "value. Considering this information, justify the choice of a single k value.\n",
    "5) With the chosen k value, determine the values of 4 performance metrics to estimate the\n",
    "performance on a test set independent of the one used in the design. Comment on the\n",
    "results obtained.\n",
    "</div>\n",
    "\n",
    "K is the number of cluster used. The idea is to assign the class label that is most frequent among the k-nearest neighbors to the test observation. In other words, the target value for the test observation is the majority class among its k-nearest neighbors.\n",
    "\n",
    "1) By computing metrics \n",
    "\n",
    "2) When k is small, the model becomes more sensitive to noise and local fluctuations in the training data. The decision boundaries are more flexible and may follow the training data closely. This can lead to overfitting, where the model captures the noise in the training set, resulting in poor generalization to new, unseen data. The model may be too complex and fail to capture the underlying patterns. On the other hand, when k is large, the model's decision boundaries become smoother and less sensitive to individual data points. The model tends to generalize better because it relies on a larger number of neighbors, leading to a more stable prediction. However, if k is too large, the model may oversimplify and miss important patterns in the data, resulting in underfitting.\n",
    "\n",
    "3) k-NN relies on the calculation of distances between data points. If the features are on different scales, features with larger magnitudes may dominate the distance computations. This sensitivity to scale can result in misleading distance measurements and affect the overall performance of the k-NN algorithm. \n",
    "\n",
    "4, 5) k=3 is the best classifier in terms of recall scoring whereas k=2 is the best in term of f1-score. Let's see the associated results on test set. k=3 performances on test set are ACC:88.24; SEN:100.00 and ESP:71.43 whereas they are ACC:94.12; SEN:100.00; ESP:85.71 with k=2. Knowing that are our classes are balanced, we can trust accuracy metric. Anyway, k=2 has better generalisation (better accuracy and specificity and equal sensivity)"
   ]
  },
  {
   "cell_type": "code",
   "execution_count": 27,
   "id": "148a4f92",
   "metadata": {},
   "outputs": [
    {
     "name": "stdout",
     "output_type": "stream",
     "text": [
      "best mean cross-validation score: 1.000\n",
      "best parameters: {'n_neighbors': 3}\n"
     ]
    },
    {
     "data": {
      "image/png": "[encoded data removed]",
      "text/plain": [
       "<Figure size 432x288 with 1 Axes>"
      ]
     },
     "metadata": {
      "needs_background": "light"
     },
     "output_type": "display_data"
    }
   ],
   "source": [
    "from sklearn.neighbors import KNeighborsClassifier\n",
    "\n",
    "# Metric for the scoring\n",
    "scorer = 'recall' \n",
    "param_grid = {'n_neighbors': range(1,10)}\n",
    "\n",
    "estimator = KNeighborsClassifier()\n",
    "\n",
    "# param_grid\n",
    "grid_knn = hyper_parameters_search(estimator, X_train, y_train, param_grid, scorer=scorer, cv=5)\n",
    "\n",
    "# do the plotting\n",
    "plot_cv_scoring(grid_knn,'n_neighbors', scorer, plot_errors=True)"
   ]
  },
  {
   "cell_type": "code",
   "execution_count": 28,
   "id": "e64470db",
   "metadata": {},
   "outputs": [
    {
     "name": "stdout",
     "output_type": "stream",
     "text": [
      "PERFORMANCE METRICS\n",
      "\tTRAIN\tTEST\n",
      "ACC:\t100.00\t88.24\n",
      "SEN:\t100.00\t100.00\n",
      "ESP:\t100.00\t71.43\n",
      "PPV:\t100.00\t83.33\n",
      "F1:\t100.00\t90.91\n"
     ]
    },
    {
     "data": {
      "image/png": "[encoded data removed]",
      "text/plain": [
       "<Figure size 432x432 with 2 Axes>"
      ]
     },
     "metadata": {
      "needs_background": "light"
     },
     "output_type": "display_data"
    },
    {
     "data": {
      "image/png": "[encoded data removed]",
      "text/plain": [
       "<Figure size 864x288 with 2 Axes>"
      ]
     },
     "metadata": {
      "needs_background": "light"
     },
     "output_type": "display_data"
    }
   ],
   "source": [
    "knn_model = grid_knn.best_estimator_\n",
    "analyze_train_test_performance(knn_model, X_train, X_test, y_train, y_test) "
   ]
  },
  {
   "cell_type": "code",
   "execution_count": 29,
   "id": "24dfd1d4",
   "metadata": {},
   "outputs": [
    {
     "name": "stdout",
     "output_type": "stream",
     "text": [
      "best mean cross-validation score: 0.982\n",
      "best parameters: {'n_neighbors': 2}\n"
     ]
    },
    {
     "data": {
      "image/png": "[encoded data removed]",
      "text/plain": [
       "<Figure size 432x288 with 1 Axes>"
      ]
     },
     "metadata": {
      "needs_background": "light"
     },
     "output_type": "display_data"
    }
   ],
   "source": [
    "# Metric for the scoring\n",
    "scorer = 'f1' \n",
    "param_grid = {'n_neighbors': range(1,10)}\n",
    "\n",
    "estimator = KNeighborsClassifier()\n",
    "\n",
    "# param_grid\n",
    "grid_knn = hyper_parameters_search(estimator, X_train, y_train, param_grid, scorer=scorer, cv=5)\n",
    "\n",
    "# do the plotting\n",
    "plot_cv_scoring(grid_knn,'n_neighbors', scorer, plot_errors=True)"
   ]
  },
  {
   "cell_type": "code",
   "execution_count": 30,
   "id": "9111729b",
   "metadata": {},
   "outputs": [
    {
     "name": "stdout",
     "output_type": "stream",
     "text": [
      "PERFORMANCE METRICS\n",
      "\tTRAIN\tTEST\n",
      "ACC:\t98.46\t94.12\n",
      "SEN:\t96.77\t100.00\n",
      "ESP:\t100.00\t85.71\n",
      "PPV:\t100.00\t90.91\n",
      "F1:\t98.36\t95.24\n"
     ]
    },
    {
     "data": {
      "image/png": "[encoded data removed]",
      "text/plain": [
       "<Figure size 432x432 with 2 Axes>"
      ]
     },
     "metadata": {
      "needs_background": "light"
     },
     "output_type": "display_data"
    },
    {
     "data": {
      "image/png": "[encoded data removed]",
      "text/plain": [
       "<Figure size 864x288 with 2 Axes>"
      ]
     },
     "metadata": {
      "needs_background": "light"
     },
     "output_type": "display_data"
    }
   ],
   "source": [
    "knn_model = grid_knn.best_estimator_\n",
    "analyze_train_test_performance(knn_model, X_train, X_test, y_train, y_test) "
   ]
  },
  {
   "cell_type": "markdown",
   "id": "608fb90b",
   "metadata": {},
   "source": [
    "### Classification tree"
   ]
  },
  {
   "cell_type": "markdown",
   "id": "ed203dc1",
   "metadata": {},
   "source": [
    "### Multi-layer perceptron"
   ]
  },
  {
   "cell_type": "markdown",
   "id": "45030ad2",
   "metadata": {},
   "source": [
    "### Random forest or gradient boosting"
   ]
  }
 ],
 "metadata": {
  "kernelspec": {
   "display_name": "Python 3 (ipykernel)",
   "language": "python",
   "name": "python3"
  },
  "language_info": {
   "codemirror_mode": {
    "name": "ipython",
    "version": 3
   },
   "file_extension": ".py",
   "mimetype": "text/x-python",
   "name": "python",
   "nbconvert_exporter": "python",
   "pygments_lexer": "ipython3",
   "version": "3.10.12"
  }
 },
 "nbformat": 4,
 "nbformat_minor": 5
}
