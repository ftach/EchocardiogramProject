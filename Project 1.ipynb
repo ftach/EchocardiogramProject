{
 "cells": [
  {
   "cell_type": "code",
   "execution_count": 3,
   "id": "b94475c1",
   "metadata": {},
   "outputs": [],
   "source": [
    "import pandas as pd\n",
    "import numpy as np\n",
    "import seaborn as sns\n",
    "import matplotlib\n",
    "from matplotlib import pyplot as plt"
   ]
  },
  {
   "cell_type": "code",
   "execution_count": 11,
   "id": "11fe819c",
   "metadata": {},
   "outputs": [
    {
     "data": {
      "text/html": [
       "<div>\n",
       "<style scoped>\n",
       "    .dataframe tbody tr th:only-of-type {\n",
       "        vertical-align: middle;\n",
       "    }\n",
       "\n",
       "    .dataframe tbody tr th {\n",
       "        vertical-align: top;\n",
       "    }\n",
       "\n",
       "    .dataframe thead th {\n",
       "        text-align: right;\n",
       "    }\n",
       "</style>\n",
       "<table border=\"1\" class=\"dataframe\">\n",
       "  <thead>\n",
       "    <tr style=\"text-align: right;\">\n",
       "      <th></th>\n",
       "      <th>19,0,72,0,0.380,6,4.100,14,1.700,0.588,name,1,0</th>\n",
       "    </tr>\n",
       "  </thead>\n",
       "  <tbody>\n",
       "    <tr>\n",
       "      <th>0</th>\n",
       "      <td>16,0,55,0,0.260,4,3.420,14,1,1,name,1,0</td>\n",
       "    </tr>\n",
       "    <tr>\n",
       "      <th>1</th>\n",
       "      <td>57,0,60,0,0.253,12.062,4.603,16,1.450,0.788,na...</td>\n",
       "    </tr>\n",
       "    <tr>\n",
       "      <th>2</th>\n",
       "      <td>19,1,57,0,0.160,22,5.750,18,2.250,0.571,name,1,0</td>\n",
       "    </tr>\n",
       "    <tr>\n",
       "      <th>3</th>\n",
       "      <td>26,0,68,0,0.260,5,4.310,12,1,0.857,name,1,0</td>\n",
       "    </tr>\n",
       "    <tr>\n",
       "      <th>4</th>\n",
       "      <td>13,0,62,0,0.230,31,5.430,22.5,1.875,0.857,name...</td>\n",
       "    </tr>\n",
       "    <tr>\n",
       "      <th>...</th>\n",
       "      <td>...</td>\n",
       "    </tr>\n",
       "    <tr>\n",
       "      <th>125</th>\n",
       "      <td>7.5,1,64,0,0.24,12.9,4.72,12,1,0.857,name,?,?</td>\n",
       "    </tr>\n",
       "    <tr>\n",
       "      <th>126</th>\n",
       "      <td>41,0,64,0,0.28,5.40,5.47,11,1.10,0.714,name,?,?</td>\n",
       "    </tr>\n",
       "    <tr>\n",
       "      <th>127</th>\n",
       "      <td>36,0,69,0,0.20,7.00,5.05,14.5,1.21,0.857,name,?,?</td>\n",
       "    </tr>\n",
       "    <tr>\n",
       "      <th>128</th>\n",
       "      <td>22,0,57,0,0.14,16.1,4.36,15,1.36,0.786,name,?,?</td>\n",
       "    </tr>\n",
       "    <tr>\n",
       "      <th>129</th>\n",
       "      <td>20,0,62,0,0.15,0,4.51,15.5,1.409,0.786,name,?,?</td>\n",
       "    </tr>\n",
       "  </tbody>\n",
       "</table>\n",
       "<p>130 rows × 1 columns</p>\n",
       "</div>"
      ],
      "text/plain": [
       "       19,0,72,0,0.380,6,4.100,14,1.700,0.588,name,1,0\n",
       "0              16,0,55,0,0.260,4,3.420,14,1,1,name,1,0\n",
       "1    57,0,60,0,0.253,12.062,4.603,16,1.450,0.788,na...\n",
       "2     19,1,57,0,0.160,22,5.750,18,2.250,0.571,name,1,0\n",
       "3          26,0,68,0,0.260,5,4.310,12,1,0.857,name,1,0\n",
       "4    13,0,62,0,0.230,31,5.430,22.5,1.875,0.857,name...\n",
       "..                                                 ...\n",
       "125      7.5,1,64,0,0.24,12.9,4.72,12,1,0.857,name,?,?\n",
       "126    41,0,64,0,0.28,5.40,5.47,11,1.10,0.714,name,?,?\n",
       "127  36,0,69,0,0.20,7.00,5.05,14.5,1.21,0.857,name,?,?\n",
       "128    22,0,57,0,0.14,16.1,4.36,15,1.36,0.786,name,?,?\n",
       "129    20,0,62,0,0.15,0,4.51,15.5,1.409,0.786,name,?,?\n",
       "\n",
       "[130 rows x 1 columns]"
      ]
     },
     "metadata": {},
     "output_type": "display_data"
    }
   ],
   "source": [
    "#Load data from csv and store it in a dataframe\n",
    "data = pd.read_csv(\"echocardiogram.data\", skiprows=1, delimiter='\\t')\n",
    "display(data)"
   ]
  },
  {
   "cell_type": "code",
   "execution_count": null,
   "id": "41e0bf9a",
   "metadata": {},
   "outputs": [],
   "source": []
  }
 ],
 "metadata": {
  "kernelspec": {
   "display_name": "Python 3 (ipykernel)",
   "language": "python",
   "name": "python3"
  },
  "language_info": {
   "codemirror_mode": {
    "name": "ipython",
    "version": 3
   },
   "file_extension": ".py",
   "mimetype": "text/x-python",
   "name": "python",
   "nbconvert_exporter": "python",
   "pygments_lexer": "ipython3",
   "version": "3.10.12"
  }
 },
 "nbformat": 4,
 "nbformat_minor": 5
}
